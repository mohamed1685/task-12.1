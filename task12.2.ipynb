{
 "cells": [
  {
   "cell_type": "code",
   "execution_count": null,
   "id": "de5011c7",
   "metadata": {},
   "outputs": [
    {
     "name": "stdout",
     "output_type": "stream",
     "text": [
      "\n",
      "Points array:\n",
      "[[ 1.  2.  3.]\n",
      " [-1. -2. -3.]\n",
      " [ 0.  0.  0.]]\n",
      "Shape: (3, 3)\n"
     ]
    }
   ],
   "source": [
    "import numpy as np\n",
    "\n",
    "points = []\n",
    "\n",
    "for i in range(3):\n",
    "    raw = input(f\"Enter point {i+1} as x y z: \")\n",
    "    \n",
    "    coords = list(map(float, raw.split()))\n",
    "\n",
    "    points.append(coords)\n",
    "\n",
    "# convert list of lists to numpy array\n",
    "points_array = np.array(points)\n",
    "\n",
    "print(\"\\nPoints array:\")\n",
    "print(points_array)\n",
    "print(\"Shape:\", points_array.shape)\n"
   ]
  },
  {
   "cell_type": "code",
   "execution_count": null,
   "id": "c8e852f5",
   "metadata": {},
   "outputs": [
    {
     "name": "stdout",
     "output_type": "stream",
     "text": [
      "[2.0, 3.0, 4.0]\n",
      "[30.0, 60.0, 90.0]\n"
     ]
    }
   ],
   "source": [
    "in_string = input(\"enter your desired translation as x y z\")\n",
    "translation = list(map(float ,in_string.split()))\n",
    "in_string2 = input(\"enter your desired rotation as Bx By Bz\")\n",
    "rotation = list(map(float ,in_string2.split()))\n",
    "print(translation)\n",
    "print(rotation)  #m00_1685"
   ]
  },
  {
   "cell_type": "code",
   "execution_count": 9,
   "id": "c2c38020",
   "metadata": {},
   "outputs": [
    {
     "ename": "ValueError",
     "evalue": "matmul: Input operand 1 has a mismatch in its core dimension 0, with gufunc signature (n?,k),(k,m?)->(n?,m?) (size 8 is different from 4)",
     "output_type": "error",
     "traceback": [
      "\u001b[0;31m---------------------------------------------------------------------------\u001b[0m",
      "\u001b[0;31mValueError\u001b[0m                                Traceback (most recent call last)",
      "Cell \u001b[0;32mIn[9], line 30\u001b[0m\n\u001b[1;32m     18\u001b[0m y_rotation_matrix \u001b[38;5;241m=\u001b[39mnp\u001b[38;5;241m.\u001b[39marray([\n\u001b[1;32m     19\u001b[0m     [math\u001b[38;5;241m.\u001b[39mcos(rotation[\u001b[38;5;241m1\u001b[39m]),\u001b[38;5;241m0\u001b[39m,math\u001b[38;5;241m.\u001b[39msin(rotation[\u001b[38;5;241m1\u001b[39m]),\u001b[38;5;241m0\u001b[39m],\n\u001b[1;32m     20\u001b[0m     [\u001b[38;5;241m0\u001b[39m,\u001b[38;5;241m1\u001b[39m,\u001b[38;5;241m0\u001b[39m,\u001b[38;5;241m0\u001b[39m],\n\u001b[1;32m     21\u001b[0m     [math\u001b[38;5;241m.\u001b[39msin(rotation[\u001b[38;5;241m1\u001b[39m])\u001b[38;5;241m*\u001b[39m\u001b[38;5;241m-\u001b[39m\u001b[38;5;241m1\u001b[39m,\u001b[38;5;241m0\u001b[39m,math\u001b[38;5;241m.\u001b[39mcos(rotation[\u001b[38;5;241m1\u001b[39m]),\u001b[38;5;241m0\u001b[39m],\n\u001b[1;32m     22\u001b[0m     [\u001b[38;5;241m0\u001b[39m,\u001b[38;5;241m0\u001b[39m,\u001b[38;5;241m0\u001b[39m,\u001b[38;5;241m1\u001b[39m]\n\u001b[1;32m     23\u001b[0m ])\n\u001b[1;32m     24\u001b[0m z_rotation_matrix \u001b[38;5;241m=\u001b[39mnp\u001b[38;5;241m.\u001b[39marray([\n\u001b[1;32m     25\u001b[0m     [math\u001b[38;5;241m.\u001b[39mcos(rotation[\u001b[38;5;241m2\u001b[39m]),math\u001b[38;5;241m.\u001b[39msin(rotation[\u001b[38;5;241m2\u001b[39m])\u001b[38;5;241m*\u001b[39m\u001b[38;5;241m-\u001b[39m\u001b[38;5;241m1\u001b[39m,\u001b[38;5;241m0\u001b[39m,\u001b[38;5;241m0\u001b[39m],\n\u001b[1;32m     26\u001b[0m     [math\u001b[38;5;241m.\u001b[39msin(rotation[\u001b[38;5;241m2\u001b[39m]),math\u001b[38;5;241m.\u001b[39mcos(rotation[\u001b[38;5;241m2\u001b[39m]),\u001b[38;5;241m0\u001b[39m,\u001b[38;5;241m0\u001b[39m],\n\u001b[1;32m     27\u001b[0m     [\u001b[38;5;241m0\u001b[39m,\u001b[38;5;241m0\u001b[39m,\u001b[38;5;241m1\u001b[39m,\u001b[38;5;241m0\u001b[39m],\n\u001b[1;32m     28\u001b[0m     [\u001b[38;5;241m0\u001b[39m,\u001b[38;5;241m0\u001b[39m,\u001b[38;5;241m0\u001b[39m,\u001b[38;5;241m1\u001b[39m]\n\u001b[1;32m     29\u001b[0m ])\n\u001b[0;32m---> 30\u001b[0m transformed_vectors \u001b[38;5;241m=\u001b[39m [\u001b[43mtranslation_matrix\u001b[49m\u001b[38;5;129;43m@z_rotation_matrix\u001b[39;49m\u001b[38;5;129;43m@y_rotation_matrix\u001b[39;49m\u001b[38;5;129;43m@x_rotation_matrix\u001b[39;49m\u001b[38;5;129;43m@points_array\u001b[39;49m\u001b[43m[\u001b[49m\u001b[43mi\u001b[49m\u001b[43m]\u001b[49m \u001b[38;5;28;01mfor\u001b[39;00m i \u001b[38;5;129;01min\u001b[39;00m \u001b[38;5;28mrange\u001b[39m(\u001b[38;5;241m3\u001b[39m)]\n\u001b[1;32m     31\u001b[0m \u001b[38;5;28mprint\u001b[39m(transformed_vectors)\n",
      "\u001b[0;31mValueError\u001b[0m: matmul: Input operand 1 has a mismatch in its core dimension 0, with gufunc signature (n?,k),(k,m?)->(n?,m?) (size 8 is different from 4)"
     ]
    }
   ],
   "source": [
    "import math\n",
    "for i in points:\n",
    "    i.append(1)\n",
    "points_array = np.array(points)\n",
    "\n",
    "translation_matrix = np.array([\n",
    "    [ 1, 0, 0, translation[0]],\n",
    "    [ 0, 0, 0, translation[1]],\n",
    "    [ 0, 0, 1, translation[2]],\n",
    "    [ 0, 0, 0, 1]\n",
    "])\n",
    "x_rotation_matrix =np.array([\n",
    "    [1,0,0,0],\n",
    "    [0,math.cos(rotation[0]),math.sin(rotation[0])*-1,0],\n",
    "    [0,math.sin(rotation[0]),math.cos(rotation[0]),0],\n",
    "    [0,0,0,1]\n",
    "])\n",
    "y_rotation_matrix =np.array([\n",
    "    [math.cos(rotation[1]),0,math.sin(rotation[1]),0],\n",
    "    [0,1,0,0],\n",
    "    [math.sin(rotation[1])*-1,0,math.cos(rotation[1]),0],\n",
    "    [0,0,0,1]\n",
    "])\n",
    "z_rotation_matrix =np.array([\n",
    "    [math.cos(rotation[2]),math.sin(rotation[2])*-1,0,0],\n",
    "    [math.sin(rotation[2]),math.cos(rotation[2]),0,0],\n",
    "    [0,0,1,0],\n",
    "    [0,0,0,1]\n",
    "])\n",
    "transformed_vectors = [translation_matrix@z_rotation_matrix@y_rotation_matrix@x_rotation_matrix@points_array[i] for i in range(3)]\n",
    "print(transformed_vectors)"
   ]
  }
 ],
 "metadata": {
  "kernelspec": {
   "display_name": "Python 3",
   "language": "python",
   "name": "python3"
  },
  "language_info": {
   "codemirror_mode": {
    "name": "ipython",
    "version": 3
   },
   "file_extension": ".py",
   "mimetype": "text/x-python",
   "name": "python",
   "nbconvert_exporter": "python",
   "pygments_lexer": "ipython3",
   "version": "3.12.3"
  }
 },
 "nbformat": 4,
 "nbformat_minor": 5
}
